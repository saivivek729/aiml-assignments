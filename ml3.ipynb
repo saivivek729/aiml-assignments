{
  "nbformat": 4,
  "nbformat_minor": 0,
  "metadata": {
    "colab": {
      "provenance": []
    },
    "kernelspec": {
      "name": "python3",
      "display_name": "Python 3"
    },
    "language_info": {
      "name": "python"
    }
  },
  "cells": [
    {
      "cell_type": "code",
      "execution_count": 28,
      "metadata": {
        "colab": {
          "base_uri": "https://localhost:8080/"
        },
        "id": "8Qgy6yL5IHRY",
        "outputId": "6d33e807-33a3-4c74-fef6-d99bbdbcec16"
      },
      "outputs": [
        {
          "output_type": "stream",
          "name": "stdout",
          "text": [
            "Column names: Index(['battery_power', 'blue', 'clock_speed', 'dual_sim', 'fc', 'four_g',\n",
            "       'int_memory', 'm_dep', 'mobile_wt', 'n_cores', 'pc', 'px_height',\n",
            "       'px_width', 'ram', 'sc_h', 'sc_w', 'talk_time', 'three_g',\n",
            "       'touch_screen', 'wifi', 'price_range'],\n",
            "      dtype='object')\n",
            "Shape of X_train: (1600, 20)\n",
            "Shape of X_test: (400, 20)\n",
            "Shape of y_train: (1600,)\n",
            "Shape of y_test: (400,)\n"
          ]
        }
      ],
      "source": [
        "import pandas as pd\n",
        "from sklearn.model_selection import train_test_split\n",
        "from sklearn.preprocessing import MinMaxScaler\n",
        "\n",
        "# a) Read the data with pandas and find features and target variables\n",
        "data = pd.read_csv(\"/content/train.csv\")\n",
        "\n",
        "# Print column names to verify\n",
        "print(\"Column names:\", data.columns)\n",
        "\n",
        "# Ensure target_column_name is set to the correct column name\n",
        "target_column_name = 'battery_power'  # Replace with the actual name of your target column\n",
        "\n",
        "# Check if target_column_name exists in the DataFrame\n",
        "if target_column_name not in data.columns:\n",
        "    raise KeyError(f\"'{target_column_name}' not found in the dataset. Please check the target column name.\")\n",
        "\n",
        "# Extract features and target variables\n",
        "features = data.drop(columns=[target_column_name])\n",
        "target = data[target_column_name]\n",
        "\n",
        "# b) Normalize the data with min-max scaling\n",
        "scaler = MinMaxScaler()\n",
        "scaled_features = scaler.fit_transform(features)\n",
        "scaled_data = pd.DataFrame(scaled_features, columns=features.columns)\n",
        "\n",
        "# c) Split the data into train and test\n",
        "X_train, X_test, y_train, y_test = train_test_split(scaled_data, target, test_size=0.2, random_state=42)\n",
        "\n",
        "# Optionally, you can print the shapes of train and test data to verify\n",
        "print(\"Shape of X_train:\", X_train.shape)\n",
        "print(\"Shape of X_test:\", X_test.shape)\n",
        "print(\"Shape of y_train:\", y_train.shape)\n",
        "print(\"Shape of y_test:\", y_test.shape)\n"
      ]
    },
    {
      "cell_type": "code",
      "source": [
        "import pandas as pd\n",
        "from sklearn.model_selection import train_test_split\n",
        "from sklearn.preprocessing import MinMaxScaler\n",
        "from sklearn.linear_model import LogisticRegression\n",
        "from sklearn.metrics import accuracy_score, precision_score, recall_score, confusion_matrix\n",
        "\n",
        "\n",
        "data = pd.read_csv('/content/train (1).csv')\n",
        "\n",
        "\n",
        "\n",
        "X = data.drop(columns=['price_range'])\n",
        "y = data['price_range']\n",
        "\n",
        "X_train, X_test, y_train, y_test = train_test_split(X, y, test_size=0.2, random_state=42)\n",
        "\n",
        "model = LogisticRegression(max_iter=1000)\n",
        "print(model.fit(X_train, y_train))\n",
        "\n",
        "\n",
        "y_pred = model.predict(X_test)\n",
        "\n",
        "accuracy = accuracy_score(y_test, y_pred)\n",
        "precision = precision_score(y_test, y_pred, average='weighted')\n",
        "recall = recall_score(y_test, y_pred, average='weighted')\n",
        "conf_matrix = confusion_matrix(y_test, y_pred)\n",
        "\n",
        "print(\"Accuracy:\", accuracy)\n",
        "print(\"Precision:\", precision)\n",
        "print(\"Recall:\", recall)\n",
        "print(\"Confusion Matrix:\")\n",
        "print(conf_matrix)"
      ],
      "metadata": {
        "colab": {
          "base_uri": "https://localhost:8080/"
        },
        "id": "0yK-ksjbS8gZ",
        "outputId": "70b3578b-cbb8-40ff-c159-6c9a011e0b99"
      },
      "execution_count": 29,
      "outputs": [
        {
          "output_type": "stream",
          "name": "stdout",
          "text": [
            "LogisticRegression(max_iter=1000)\n",
            "Accuracy: 0.73\n",
            "Precision: 0.7365416673696998\n",
            "Recall: 0.73\n",
            "Confusion Matrix:\n",
            "[[88 17  0  0]\n",
            " [ 6 62 18  5]\n",
            " [ 0 18 52 22]\n",
            " [ 0  0 22 90]]\n"
          ]
        },
        {
          "output_type": "stream",
          "name": "stderr",
          "text": [
            "/usr/local/lib/python3.10/dist-packages/sklearn/linear_model/_logistic.py:458: ConvergenceWarning: lbfgs failed to converge (status=1):\n",
            "STOP: TOTAL NO. of ITERATIONS REACHED LIMIT.\n",
            "\n",
            "Increase the number of iterations (max_iter) or scale the data as shown in:\n",
            "    https://scikit-learn.org/stable/modules/preprocessing.html\n",
            "Please also refer to the documentation for alternative solver options:\n",
            "    https://scikit-learn.org/stable/modules/linear_model.html#logistic-regression\n",
            "  n_iter_i = _check_optimize_result(\n"
          ]
        }
      ]
    },
    {
      "cell_type": "code",
      "source": [],
      "metadata": {
        "id": "LGf6imziRPr_"
      },
      "execution_count": null,
      "outputs": []
    }
  ]
}